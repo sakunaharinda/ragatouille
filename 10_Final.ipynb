{
 "cells": [
  {
   "cell_type": "markdown",
   "metadata": {},
   "source": [
    "# Putting it all together with Neo4J\n",
    "\n",
    "In this section we put everything we learned in previous sections into practice by creating an LLM agent that will answer user questions about a hospital. To do that we use two datasources: a vectorstore that contains documents on user reviews of the hospital and a Neo4J graph database containing the information about the hospitals, visits, doctors, payments, etc. Our agent will be correctly re-direct the user query to each datasource and will answer the question in the end. Let's begin!"
   ]
  },
  {
   "cell_type": "code",
   "execution_count": 15,
   "metadata": {},
   "outputs": [
    {
     "name": "stdout",
     "output_type": "stream",
     "text": [
      "The dotenv extension is already loaded. To reload it, use:\n",
      "  %reload_ext dotenv\n"
     ]
    }
   ],
   "source": [
    "%load_ext dotenv\n",
    "%dotenv secrets/secrets.env"
   ]
  },
  {
   "cell_type": "code",
   "execution_count": 7,
   "metadata": {},
   "outputs": [],
   "source": [
    "import os\n",
    "from langchain_community.document_loaders import CSVLoader\n",
    "from langchain import hub\n",
    "from langchain.text_splitter import RecursiveCharacterTextSplitter\n",
    "from langchain_community.vectorstores import Chroma\n",
    "from langchain_core.output_parsers import StrOutputParser\n",
    "from langchain_openai import ChatOpenAI, OpenAIEmbeddings\n",
    "\n",
    "os.environ[\"LANGCHAIN_PROJECT\"] = \"hospital-system\""
   ]
  },
  {
   "cell_type": "code",
   "execution_count": 8,
   "metadata": {},
   "outputs": [],
   "source": [
    "loader = CSVLoader(file_path=\"data/reviews.csv\",source_column=\"review\")\n",
    "documents = loader.load()\n",
    "\n",
    "# Split text into chunks\n",
    "\n",
    "text_splitter  = RecursiveCharacterTextSplitter(chunk_size=500,chunk_overlap=0)\n",
    "text_chunks = text_splitter.split_documents(documents)\n",
    "\n",
    "vectorstore = Chroma.from_documents(documents=text_chunks, \n",
    "                                    embedding=OpenAIEmbeddings(),\n",
    "                                    persist_directory=\"data/vectorstore\")\n",
    "\n",
    "retriever = vectorstore.as_retriever()"
   ]
  },
  {
   "cell_type": "code",
   "execution_count": 9,
   "metadata": {},
   "outputs": [
    {
     "data": {
      "text/plain": [
       "[Document(page_content=\"review_id: 678\\nvisit_id: 9840\\nreview: The hospital's commitment to patient safety was evident in their strict adherence to hygiene protocols. I felt secure throughout my stay, and the staff's dedication to cleanliness did not go unnoticed.\\nphysician_name: Kristopher Wiley Jr.\\nhospital_name: Jones, Brown and Murray\\npatient_name: Jason Shepard\", metadata={'row': 197, 'source': \"The hospital's commitment to patient safety was evident in their strict adherence to hygiene protocols. I felt secure throughout my stay, and the staff's dedication to cleanliness did not go unnoticed.\"}),\n",
       " Document(page_content=\"review_id: 678\\nvisit_id: 9840\\nreview: The hospital's commitment to patient safety was evident in their strict adherence to hygiene protocols. I felt secure throughout my stay, and the staff's dedication to cleanliness did not go unnoticed.\\nphysician_name: Kristopher Wiley Jr.\\nhospital_name: Jones, Brown and Murray\\npatient_name: Jason Shepard\", metadata={'row': 197, 'source': \"The hospital's commitment to patient safety was evident in their strict adherence to hygiene protocols. I felt secure throughout my stay, and the staff's dedication to cleanliness did not go unnoticed.\"}),\n",
       " Document(page_content=\"review_id: 972\\nvisit_id: 4296\\nreview: The hospital's commitment to patient safety was evident. The strict adherence to hygiene protocols gave me confidence in the cleanliness of the facilities.\\nphysician_name: Jessica Rodriguez\\nhospital_name: Jones, Taylor and Garcia\\npatient_name: Joshua Myers\", metadata={'row': 760, 'source': \"The hospital's commitment to patient safety was evident. The strict adherence to hygiene protocols gave me confidence in the cleanliness of the facilities.\"}),\n",
       " Document(page_content=\"review_id: 972\\nvisit_id: 4296\\nreview: The hospital's commitment to patient safety was evident. The strict adherence to hygiene protocols gave me confidence in the cleanliness of the facilities.\\nphysician_name: Jessica Rodriguez\\nhospital_name: Jones, Taylor and Garcia\\npatient_name: Joshua Myers\", metadata={'row': 760, 'source': \"The hospital's commitment to patient safety was evident. The strict adherence to hygiene protocols gave me confidence in the cleanliness of the facilities.\"})]"
      ]
     },
     "execution_count": 9,
     "metadata": {},
     "output_type": "execute_result"
    }
   ],
   "source": [
    "retriever.invoke(\"Patient safety\")"
   ]
  },
  {
   "cell_type": "code",
   "execution_count": 12,
   "metadata": {},
   "outputs": [
    {
     "data": {
      "text/plain": [
       "'The patient safety in the hospital is reportedly high. The hospital shows a strong commitment to patient safety, evident in their strict adherence to hygiene protocols. Patients have expressed feeling secure throughout their stay and have confidence in the cleanliness of the facilities.'"
      ]
     },
     "execution_count": 12,
     "metadata": {},
     "output_type": "execute_result"
    }
   ],
   "source": [
    "question = \"How is the patient safety in the hospital?\"\n",
    "\n",
    "\n",
    "chat_prompt = hub.pull('rlm/rag-prompt')\n",
    "\n",
    "llm = ChatOpenAI(model=\"gpt-4\", temperature=0)\n",
    "\n",
    "review_chain = chat_prompt | llm | StrOutputParser()\n",
    "\n",
    "docs = retriever.invoke(question)\n",
    "review_chain.invoke({'question': question, 'context': docs})"
   ]
  },
  {
   "cell_type": "code",
   "execution_count": 14,
   "metadata": {},
   "outputs": [
    {
     "name": "stdout",
     "output_type": "stream",
     "text": [
      "How is the patient safety in the hospital?: datasource='vectorstore'\n",
      "What are the specialities of all the doctors in all the hospitals?: datasource='graph'\n",
      "What is the capital of France?: datasource='fallback'\n"
     ]
    }
   ],
   "source": [
    "from langchain.pydantic_v1 import BaseModel, Field\n",
    "from langchain.prompts import ChatPromptTemplate\n",
    "from typing import Literal\n",
    "\n",
    "\n",
    "class QueryRouter(BaseModel):\n",
    "    \n",
    "    \"\"\"Routes the question to either the vectorstore or the graph database\"\"\"\n",
    "    \n",
    "    datasource: Literal['vectorstore', 'graph', 'fallback'] = Field(...,description=\"The datasource to use for answering the user question. If the user question can be answered using the reviews about the hospital, the datasource should be set to 'vectorstore'. If the question should be answered using the information from a databse containing information about hospitals that a company manages, the datasource should be set to 'graph'. If the question can be answered using LLM's internal knowledge, the datasource should be set to 'fallback'\")\n",
    "    \n",
    "\n",
    "query_llm = llm.with_structured_output(QueryRouter)\n",
    "\n",
    "query_router_prompt = ChatPromptTemplate.from_template(\n",
    "    \"\"\"You are an expert at routing a user question to a vectorstore or to a graph database containing information from a hospital system. The vectorstore contains documents related to the user reviews of a hospital.\n",
    "Use the vectorstore for questions that can be answered using peoples' opinions on the hospital. Otherwise, use graph to answer questions using the graph database containing information from a company database that manages several hospitals. If the question can be answered using LLM's internal knowledge, use fallback.\\n\\n\n",
    "Question: {question}\"\"\"\n",
    ")\n",
    "\n",
    "query_routing_chain = (query_router_prompt | query_llm)\n",
    "\n",
    "print(f\"{question}: {query_routing_chain.invoke({'question': question})}\")\n",
    "system_q = \"What are the specialities of all the doctors in all the hospitals?\"\n",
    "print(f\"{system_q}: {query_routing_chain.invoke({'question': system_q})}\")\n",
    "fallback_q = \"What is the capital of France?\"\n",
    "print(f\"{fallback_q}: {query_routing_chain.invoke({'question': fallback_q})}\")\n",
    "    "
   ]
  },
  {
   "cell_type": "code",
   "execution_count": 21,
   "metadata": {},
   "outputs": [],
   "source": [
    "from neo4j import GraphDatabase\n",
    "\n",
    "NODES = [\"Hospital\", \"Payer\", \"Physician\", \"Patient\", \"Visit\", \"Review\"]\n",
    "\n",
    "def _set_uniqueness_constraints(tx, node):\n",
    "    query = f\"\"\"CREATE CONSTRAINT IF NOT EXISTS FOR (n:{node})\n",
    "        REQUIRE n.id IS UNIQUE;\"\"\"\n",
    "    _ = tx.run(query, {})\n",
    "    \n",
    "\n",
    "driver = GraphDatabase.driver(\n",
    "    os.getenv('NEO4J_URI'),\n",
    "    auth=(os.getenv('NEO4J_USERNAME'), os.getenv('NEO4J_PASSWORD'))\n",
    ")\n",
    "with driver.session(database=\"neo4j\") as session:\n",
    "    for node in NODES:\n",
    "        session.execute_write(_set_uniqueness_constraints, node)\n",
    "    \n"
   ]
  },
  {
   "cell_type": "code",
   "execution_count": 24,
   "metadata": {},
   "outputs": [
    {
     "ename": "DatabaseError",
     "evalue": "{code: Neo.DatabaseError.Statement.ExecutionFailed} {message: At https://drive.google.com/file/d/1Etm7rjCAg7jX-ATfC7PtRI4zebOq0Cfu/view?usp=sharing @ position 1978 -  there's a field starting with a quote and whereas it ends that quote there seems to be characters in that field after that ending quote. That isn't supported. This is what I read: 'nQyAE\":'}",
     "output_type": "error",
     "traceback": [
      "\u001b[0;31m---------------------------------------------------------------------------\u001b[0m",
      "\u001b[0;31mDatabaseError\u001b[0m                             Traceback (most recent call last)",
      "\u001b[1;32m/Users/sakunaharinda/Documents/Repositories/ragatouille/ragatouille_book/10_Final.ipynb Cell 9\u001b[0m line \u001b[0;36m9\n\u001b[1;32m      <a href='vscode-notebook-cell:/Users/sakunaharinda/Documents/Repositories/ragatouille/ragatouille_book/10_Final.ipynb#X14sZmlsZQ%3D%3D?line=0'>1</a>\u001b[0m \u001b[39mwith\u001b[39;00m driver\u001b[39m.\u001b[39msession(database\u001b[39m=\u001b[39m\u001b[39m\"\u001b[39m\u001b[39mneo4j\u001b[39m\u001b[39m\"\u001b[39m) \u001b[39mas\u001b[39;00m session:\n\u001b[1;32m      <a href='vscode-notebook-cell:/Users/sakunaharinda/Documents/Repositories/ragatouille/ragatouille_book/10_Final.ipynb#X14sZmlsZQ%3D%3D?line=1'>2</a>\u001b[0m         query \u001b[39m=\u001b[39m \u001b[39mf\u001b[39m\u001b[39m\"\"\"\u001b[39m\n\u001b[1;32m      <a href='vscode-notebook-cell:/Users/sakunaharinda/Documents/Repositories/ragatouille/ragatouille_book/10_Final.ipynb#X14sZmlsZQ%3D%3D?line=2'>3</a>\u001b[0m \u001b[39m        LOAD CSV WITH HEADERS\u001b[39m\n\u001b[1;32m      <a href='vscode-notebook-cell:/Users/sakunaharinda/Documents/Repositories/ragatouille/ragatouille_book/10_Final.ipynb#X14sZmlsZQ%3D%3D?line=3'>4</a>\u001b[0m \u001b[39m        FROM \u001b[39m\u001b[39m'\u001b[39m\u001b[39mhttps://drive.google.com/file/d/1Etm7rjCAg7jX-ATfC7PtRI4zebOq0Cfu/view?usp=sharing\u001b[39m\u001b[39m'\u001b[39m\u001b[39m AS hospitals\u001b[39m\n\u001b[0;32m   (...)\u001b[0m\n\u001b[1;32m      <a href='vscode-notebook-cell:/Users/sakunaharinda/Documents/Repositories/ragatouille/ragatouille_book/10_Final.ipynb#X14sZmlsZQ%3D%3D?line=6'>7</a>\u001b[0m \u001b[39m                            state_name: hospitals.hospital_state\u001b[39m\u001b[39m}}\u001b[39;00m\u001b[39m);\u001b[39m\n\u001b[1;32m      <a href='vscode-notebook-cell:/Users/sakunaharinda/Documents/Repositories/ragatouille/ragatouille_book/10_Final.ipynb#X14sZmlsZQ%3D%3D?line=7'>8</a>\u001b[0m \u001b[39m        \u001b[39m\u001b[39m\"\"\"\u001b[39m\n\u001b[0;32m----> <a href='vscode-notebook-cell:/Users/sakunaharinda/Documents/Repositories/ragatouille/ragatouille_book/10_Final.ipynb#X14sZmlsZQ%3D%3D?line=8'>9</a>\u001b[0m         _ \u001b[39m=\u001b[39m session\u001b[39m.\u001b[39;49mrun(query, {})\n",
      "File \u001b[0;32m~/Documents/Repositories/ragatouille/venv/lib/python3.12/site-packages/neo4j/_sync/work/session.py:313\u001b[0m, in \u001b[0;36mSession.run\u001b[0;34m(self, query, parameters, **kwargs)\u001b[0m\n\u001b[1;32m    311\u001b[0m bookmarks \u001b[39m=\u001b[39m \u001b[39mself\u001b[39m\u001b[39m.\u001b[39m_get_bookmarks()\n\u001b[1;32m    312\u001b[0m parameters \u001b[39m=\u001b[39m \u001b[39mdict\u001b[39m(parameters \u001b[39mor\u001b[39;00m {}, \u001b[39m*\u001b[39m\u001b[39m*\u001b[39mkwargs)\n\u001b[0;32m--> 313\u001b[0m \u001b[39mself\u001b[39;49m\u001b[39m.\u001b[39;49m_auto_result\u001b[39m.\u001b[39;49m_run(\n\u001b[1;32m    314\u001b[0m     query, parameters, \u001b[39mself\u001b[39;49m\u001b[39m.\u001b[39;49m_config\u001b[39m.\u001b[39;49mdatabase,\n\u001b[1;32m    315\u001b[0m     \u001b[39mself\u001b[39;49m\u001b[39m.\u001b[39;49m_config\u001b[39m.\u001b[39;49mimpersonated_user, \u001b[39mself\u001b[39;49m\u001b[39m.\u001b[39;49m_config\u001b[39m.\u001b[39;49mdefault_access_mode,\n\u001b[1;32m    316\u001b[0m     bookmarks, \u001b[39mself\u001b[39;49m\u001b[39m.\u001b[39;49m_config\u001b[39m.\u001b[39;49mnotifications_min_severity,\n\u001b[1;32m    317\u001b[0m     \u001b[39mself\u001b[39;49m\u001b[39m.\u001b[39;49m_config\u001b[39m.\u001b[39;49mnotifications_disabled_categories,\n\u001b[1;32m    318\u001b[0m )\n\u001b[1;32m    320\u001b[0m \u001b[39mreturn\u001b[39;00m \u001b[39mself\u001b[39m\u001b[39m.\u001b[39m_auto_result\n",
      "File \u001b[0;32m~/Documents/Repositories/ragatouille/venv/lib/python3.12/site-packages/neo4j/_sync/work/result.py:181\u001b[0m, in \u001b[0;36mResult._run\u001b[0;34m(self, query, parameters, db, imp_user, access_mode, bookmarks, notifications_min_severity, notifications_disabled_categories)\u001b[0m\n\u001b[1;32m    179\u001b[0m \u001b[39mself\u001b[39m\u001b[39m.\u001b[39m_pull()\n\u001b[1;32m    180\u001b[0m \u001b[39mself\u001b[39m\u001b[39m.\u001b[39m_connection\u001b[39m.\u001b[39msend_all()\n\u001b[0;32m--> 181\u001b[0m \u001b[39mself\u001b[39;49m\u001b[39m.\u001b[39;49m_attach()\n",
      "File \u001b[0;32m~/Documents/Repositories/ragatouille/venv/lib/python3.12/site-packages/neo4j/_sync/work/result.py:301\u001b[0m, in \u001b[0;36mResult._attach\u001b[0;34m(self)\u001b[0m\n\u001b[1;32m    299\u001b[0m \u001b[39mif\u001b[39;00m \u001b[39mself\u001b[39m\u001b[39m.\u001b[39m_exhausted \u001b[39mis\u001b[39;00m \u001b[39mFalse\u001b[39;00m:\n\u001b[1;32m    300\u001b[0m     \u001b[39mwhile\u001b[39;00m \u001b[39mself\u001b[39m\u001b[39m.\u001b[39m_attached \u001b[39mis\u001b[39;00m \u001b[39mFalse\u001b[39;00m:\n\u001b[0;32m--> 301\u001b[0m         \u001b[39mself\u001b[39;49m\u001b[39m.\u001b[39;49m_connection\u001b[39m.\u001b[39;49mfetch_message()\n",
      "File \u001b[0;32m~/Documents/Repositories/ragatouille/venv/lib/python3.12/site-packages/neo4j/_sync/io/_common.py:178\u001b[0m, in \u001b[0;36mConnectionErrorHandler.__getattr__.<locals>.outer.<locals>.inner\u001b[0;34m(*args, **kwargs)\u001b[0m\n\u001b[1;32m    176\u001b[0m \u001b[39mdef\u001b[39;00m \u001b[39minner\u001b[39m(\u001b[39m*\u001b[39margs, \u001b[39m*\u001b[39m\u001b[39m*\u001b[39mkwargs):\n\u001b[1;32m    177\u001b[0m     \u001b[39mtry\u001b[39;00m:\n\u001b[0;32m--> 178\u001b[0m         func(\u001b[39m*\u001b[39;49margs, \u001b[39m*\u001b[39;49m\u001b[39m*\u001b[39;49mkwargs)\n\u001b[1;32m    179\u001b[0m     \u001b[39mexcept\u001b[39;00m (Neo4jError, ServiceUnavailable, SessionExpired) \u001b[39mas\u001b[39;00m exc:\n\u001b[1;32m    180\u001b[0m         \u001b[39massert\u001b[39;00m \u001b[39mnot\u001b[39;00m asyncio\u001b[39m.\u001b[39miscoroutinefunction(\u001b[39mself\u001b[39m\u001b[39m.\u001b[39m__on_error)\n",
      "File \u001b[0;32m~/Documents/Repositories/ragatouille/venv/lib/python3.12/site-packages/neo4j/_sync/io/_bolt.py:850\u001b[0m, in \u001b[0;36mBolt.fetch_message\u001b[0;34m(self)\u001b[0m\n\u001b[1;32m    846\u001b[0m \u001b[39m# Receive exactly one message\u001b[39;00m\n\u001b[1;32m    847\u001b[0m tag, fields \u001b[39m=\u001b[39m \u001b[39mself\u001b[39m\u001b[39m.\u001b[39minbox\u001b[39m.\u001b[39mpop(\n\u001b[1;32m    848\u001b[0m     hydration_hooks\u001b[39m=\u001b[39m\u001b[39mself\u001b[39m\u001b[39m.\u001b[39mresponses[\u001b[39m0\u001b[39m]\u001b[39m.\u001b[39mhydration_hooks\n\u001b[1;32m    849\u001b[0m )\n\u001b[0;32m--> 850\u001b[0m res \u001b[39m=\u001b[39m \u001b[39mself\u001b[39;49m\u001b[39m.\u001b[39;49m_process_message(tag, fields)\n\u001b[1;32m    851\u001b[0m \u001b[39mself\u001b[39m\u001b[39m.\u001b[39midle_since \u001b[39m=\u001b[39m monotonic()\n\u001b[1;32m    852\u001b[0m \u001b[39mreturn\u001b[39;00m res\n",
      "File \u001b[0;32m~/Documents/Repositories/ragatouille/venv/lib/python3.12/site-packages/neo4j/_sync/io/_bolt5.py:369\u001b[0m, in \u001b[0;36mBolt5x0._process_message\u001b[0;34m(self, tag, fields)\u001b[0m\n\u001b[1;32m    367\u001b[0m \u001b[39mself\u001b[39m\u001b[39m.\u001b[39m_server_state_manager\u001b[39m.\u001b[39mstate \u001b[39m=\u001b[39m \u001b[39mself\u001b[39m\u001b[39m.\u001b[39mbolt_states\u001b[39m.\u001b[39mFAILED\n\u001b[1;32m    368\u001b[0m \u001b[39mtry\u001b[39;00m:\n\u001b[0;32m--> 369\u001b[0m     response\u001b[39m.\u001b[39;49mon_failure(summary_metadata \u001b[39mor\u001b[39;49;00m {})\n\u001b[1;32m    370\u001b[0m \u001b[39mexcept\u001b[39;00m (ServiceUnavailable, DatabaseUnavailable):\n\u001b[1;32m    371\u001b[0m     \u001b[39mif\u001b[39;00m \u001b[39mself\u001b[39m\u001b[39m.\u001b[39mpool:\n",
      "File \u001b[0;32m~/Documents/Repositories/ragatouille/venv/lib/python3.12/site-packages/neo4j/_sync/io/_common.py:245\u001b[0m, in \u001b[0;36mResponse.on_failure\u001b[0;34m(self, metadata)\u001b[0m\n\u001b[1;32m    243\u001b[0m handler \u001b[39m=\u001b[39m \u001b[39mself\u001b[39m\u001b[39m.\u001b[39mhandlers\u001b[39m.\u001b[39mget(\u001b[39m\"\u001b[39m\u001b[39mon_summary\u001b[39m\u001b[39m\"\u001b[39m)\n\u001b[1;32m    244\u001b[0m Util\u001b[39m.\u001b[39mcallback(handler)\n\u001b[0;32m--> 245\u001b[0m \u001b[39mraise\u001b[39;00m Neo4jError\u001b[39m.\u001b[39mhydrate(\u001b[39m*\u001b[39m\u001b[39m*\u001b[39mmetadata)\n",
      "\u001b[0;31mDatabaseError\u001b[0m: {code: Neo.DatabaseError.Statement.ExecutionFailed} {message: At https://drive.google.com/file/d/1Etm7rjCAg7jX-ATfC7PtRI4zebOq0Cfu/view?usp=sharing @ position 1978 -  there's a field starting with a quote and whereas it ends that quote there seems to be characters in that field after that ending quote. That isn't supported. This is what I read: 'nQyAE\":'}"
     ]
    }
   ],
   "source": [
    "with driver.session(database=\"neo4j\") as session:\n",
    "        query = f\"\"\"\n",
    "        LOAD CSV WITH HEADERS\n",
    "        FROM 'https://drive.google.com/file/d/1Etm7rjCAg7jX-ATfC7PtRI4zebOq0Cfu/view?usp=sharing' AS hospitals\n",
    "        MERGE (h:Hospital {{id: toInteger(hospitals.hospital_id),\n",
    "                            name: hospitals.hospital_name,\n",
    "                            state_name: hospitals.hospital_state}});\n",
    "        \"\"\"\n",
    "        _ = session.run(query, {})"
   ]
  },
  {
   "cell_type": "code",
   "execution_count": null,
   "metadata": {},
   "outputs": [],
   "source": []
  }
 ],
 "metadata": {
  "kernelspec": {
   "display_name": "venv",
   "language": "python",
   "name": "python3"
  },
  "language_info": {
   "codemirror_mode": {
    "name": "ipython",
    "version": 3
   },
   "file_extension": ".py",
   "mimetype": "text/x-python",
   "name": "python",
   "nbconvert_exporter": "python",
   "pygments_lexer": "ipython3",
   "version": "3.12.3"
  }
 },
 "nbformat": 4,
 "nbformat_minor": 2
}
